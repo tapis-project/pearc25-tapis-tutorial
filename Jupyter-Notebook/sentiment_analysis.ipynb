{
  "cells": [
    {
      "cell_type": "markdown",
      "metadata": {
        "collapsed": false,
        "id": "QS1xw_2_32ix"
      },
      "source": [
        "# PEARC 25 Hands-on Exercises\n",
        "\n",
        "Login to https://training.tapis.io. Use the username and password provided to you to authenticate.\n",
        "![Login Step](images/Login-user-password.png)"
      ]
    },
    {
      "cell_type": "markdown",
      "metadata": {
        "collapsed": false,
        "id": "FLrLo_P832i3"
      },
      "source": [
        "## Systems\n",
        "\n",
        "In this section we create two Tapis systems, one for running on a VM host using FORK and one for running on an HPC type host using BATCH.\n",
        "\n",
        "Note that although it is possible, we have not provided any login credentials in the system definitions.\n",
        "Well-crafted system definitions are likely to be copied and re-used, so, for security reasons, it is recommended that\n",
        "login credentials be registered using separately.\n",
        "\n",
        "When you login to TapisUI you may see My Systems as 0, since we did not create any systems yet. As we create systems, the list will get populated.\n"
      ]
    },
    {
      "cell_type": "markdown",
      "metadata": {},
      "source": [
        "### Create System\n",
        "Click on Systems from the Left tab, click on Create System, right most button. You should see two ways to create system.\n",
        "By entering information in the form or using a json editor. \n",
        "We will be using JSON editor. Copy the below system json in the json editor and click Create System.\n",
        "![Login Step](images/CreateSystem.png)"
      ]
    },
    {
      "cell_type": "code",
      "execution_count": null,
      "metadata": {
        "colab": {
          "base_uri": "https://localhost:8080/"
        },
        "id": "Tt-wvvt132i4",
        "outputId": "6ff13bf3-2c67-4f13-aea0-b99b95afb175"
      },
      "outputs": [],
      "source": [
        "# change the id to reflect your training user number, rest should remain unchanged.\n",
        "{\n",
        "  \"id\": \"pearc25-vm-training_user1\",\n",
        "  \"description\": \"Test system\",\n",
        "  \"systemType\": \"LINUX\",\n",
        "  \"host\": \"129.114.35.138\",\n",
        "  \"effectiveUserId\":\"${apiUserId}\",\n",
        "  \"defaultAuthnMethod\": \"PASSWORD\",\n",
        "  \"rootDir\": \"/\",\n",
        "  \"canExec\": true,\n",
        "  \"jobRuntimes\": [ { \"runtimeType\": \"DOCKER\" } ],\n",
        "  \"jobWorkingDir\": \"HOST_EVAL($HOME)/sharetest/workdir\"\n",
        "}"
      ]
    },
    {
      "cell_type": "markdown",
      "metadata": {},
      "source": [
        "In the My Systems you should now see the system you just created."
      ]
    },
    {
      "cell_type": "markdown",
      "metadata": {
        "collapsed": false,
        "id": "VyViIQtq32i7"
      },
      "source": [
        "### Register Credentials for the VM system\n",
        "\n",
        "After creating the system, you will need to register credentials for your username. These will be used by Tapis to\n",
        "access the host. Various authentication methods can be used to access a system, such as PASSWORD and PKI_KEYS. We will should you how to add password credentials for your system. You will need to use **vm_password** provided to you.\n",
        "![Add Credential](images/AddCredentialsSystem.png)\n"
      ]
    },
    {
      "cell_type": "markdown",
      "metadata": {},
      "source": [
        "Click on the AUTHENTICATE and add Password\n",
        "![Add Password](images/addpassword.png)"
      ]
    },
    {
      "cell_type": "markdown",
      "metadata": {},
      "source": [
        "You should see Successfully created credentials. If there is any error please try to enter the vm_password again\n",
        "![Credential Success](images/credentialsSuccess.png)"
      ]
    },
    {
      "cell_type": "markdown",
      "metadata": {
        "collapsed": false,
        "id": "yAWVE8AA32i8"
      },
      "source": [
        "Now that we have sucessfully added credentials, our System is ready for use.\n",
        "Try to list files from the Files tab in the left bar. You should see something similar to the image below.\n",
        "![Files List](images/FilesList.png)"
      ]
    },
    {
      "cell_type": "markdown",
      "metadata": {},
      "source": [
        "We will now learn to create a Sentiment Analysis Application with Tapis."
      ]
    },
    {
      "cell_type": "markdown",
      "metadata": {
        "id": "EfX-NHKi4099"
      },
      "source": [
        "### Natural Language Processsing: Sentiment Analysis\n",
        "- Sentiment Analysis is one of the most popular applications of Natural Language Processing, which uses the Text Classification method to analyse the sentiment or emotion of the given text.\n",
        "- Sentiment analysis assigns a label like 🙂 positive, 🙁 negative, or 😐 neutral to a sequence of text.\n",
        "- It is useful tool to make business decisions based on customer feedback and reviews.\n",
        "\n"
      ]
    },
    {
      "cell_type": "code",
      "execution_count": null,
      "metadata": {
        "colab": {
          "base_uri": "https://localhost:8080/"
        },
        "id": "Tkx40OLiCmw4",
        "outputId": "13523a89-ff74-4b23-8277-7c08bb475bae"
      },
      "outputs": [],
      "source": [
        "#!pip install -q transformers"
      ]
    },
    {
      "cell_type": "code",
      "execution_count": null,
      "metadata": {
        "id": "AOWE7vxoDanc"
      },
      "outputs": [],
      "source": [
        "from transformers import pipeline"
      ]
    },
    {
      "cell_type": "code",
      "execution_count": null,
      "metadata": {
        "colab": {
          "base_uri": "https://localhost:8080/",
          "height": 199,
          "referenced_widgets": [
            "e019f9b1da334de7b367eac4f5832aa7",
            "d702df7b9ebf4dc69500e3fc9c8c79bb",
            "68bd26dfc3184328a35a4a90b5f67de9",
            "f960471fd6fe4265bdbb2fd251de6d83",
            "028c7b70ab0f47eba3c2f1f20b0926e5",
            "3a96b255b77b46929efd57dc56c4a800",
            "b3d6482f80134b668d1c48af02de7bcf",
            "4495c485de554751a39b7ebba6ce9faa",
            "81127743dd6541f6a0362bfbfc3d7472",
            "3ef1dbc02b6a4f08b894093bdac7343d",
            "38831328b9054139accbde1240fbda25",
            "604d3d379cac422db3876609feefab31",
            "67d1cc4f82a641d6abf28f144c46eb8d",
            "98c799acf42b4c7c867803de3bd79612",
            "da334338b05248489ad5e5d2acd432e1",
            "43d1271cec9745cdb2649a85dc79e0e6",
            "8723bbfd4d8a4542ab35aeeac8191c40",
            "b20c421a8af9477299d34f294ca66774",
            "6d18fa41260641ca958def558a890967",
            "951a1ff3690d469dafcab1e112cacfd7",
            "2f5c6539bb0d433e8a93e480452f2078",
            "9b9a8e9b74e842f4962d96a3e3a2e3dd",
            "1a08a5ac238d4d40b1dd7d925361e589",
            "348eef1705e54a9b9f3660ded76bd68f",
            "7eca837840ab495aa653d2751e821b2a",
            "b55f0dae3c3647139c6680d6b59da998",
            "15e1577696a94cda9ff6c4c70ace604b",
            "91c780a04a054671ad27c793f8693390",
            "79bb64584df84cc5b70d837fce33b730",
            "74478d586aaa4fe49c4f344a959e670e",
            "58a16acf45cb46f287d156a14f769a46",
            "c9f88d97ef8b47aa92217e58fd3d82e0",
            "47963cd61cae4dc4998b3a8d91043cc6",
            "a0fc5b142c3b40dba6ab18a03f2a5b05",
            "1668296226ee45449efc03c39b22ce4a",
            "0b8b3fafc8c24636a0c62a166483ddf1",
            "5ffb028ce453462aa304d39876928cb6",
            "f494f3b2a79b4139875cb40395d4e2ee",
            "b2189b6006984d4ca6257f54f0626883",
            "ef60dcf976254edeba80447ddaa09cc4",
            "ce0589017b48404dbce085ac6d20ab39",
            "7936555292b840c5884828de3c249282",
            "d68ec7378a3e4e59ab59ccdeb8b2739e",
            "8e3575d6ddc1441c88027bbd369524cd"
          ]
        },
        "id": "WRcg3qnpDd_3",
        "outputId": "6be1624b-eed1-476a-d7bf-4a9ec55adb3f"
      },
      "outputs": [],
      "source": [
        "sentiment_pipeline = pipeline(\"sentiment-analysis\")"
      ]
    },
    {
      "cell_type": "code",
      "execution_count": null,
      "metadata": {
        "colab": {
          "base_uri": "https://localhost:8080/"
        },
        "id": "ZIFaBjQiDwjU",
        "outputId": "0258aba0-2a81-4abf-a806-080a61232648"
      },
      "outputs": [],
      "source": [
        "text= \"Glad to see you at PEARC 25\"\n",
        "sentiment_pipeline(text)"
      ]
    },
    {
      "cell_type": "markdown",
      "metadata": {
        "id": "VpsuliwCD_uS"
      },
      "source": [
        "### Create App with Tapis UI"
      ]
    },
    {
      "cell_type": "markdown",
      "metadata": {},
      "source": [
        "In the Apps Tab in TapisUI, click on + NEW APP > JSON EDITOR and paste the below json "
      ]
    },
    {
      "cell_type": "code",
      "execution_count": null,
      "metadata": {
        "id": "mitE0JQ-D-bq"
      },
      "outputs": [],
      "source": [
        "{\n",
        "    \"id\": \"pearc25-sentiment-analysis\",\n",
        "    \"version\": \"0.1\",\n",
        "    \"description\": \"Application utilizing the sentiment analysis model from Hugging Face.\",\n",
        "    \"jobType\": \"FORK\",\n",
        "    \"runtime\": \"DOCKER\",\n",
        "    \"containerImage\": \"tapis/sentiment-analysis:2.0.3\",\n",
        "    \"jobAttributes\": {\n",
        "        \"parameterSet\": {\n",
        "            \"archiveFilter\": {\n",
        "                \"includeLaunchFiles\": false\n",
        "            }\n",
        "        },\n",
        "        \"memoryMB\": 1,\n",
        "        \"nodeCount\": 1,\n",
        "        \"coresPerNode\": 1,\n",
        "        \"maxMinutes\": 10\n",
        "    }\n",
        "}"
      ]
    },
    {
      "cell_type": "markdown",
      "metadata": {},
      "source": [
        "Click on Create App and it should give a success message."
      ]
    },
    {
      "cell_type": "markdown",
      "metadata": {},
      "source": [
        "### Submit Job in Tapis UI"
      ]
    },
    {
      "cell_type": "markdown",
      "metadata": {},
      "source": [
        "In the Apps Tab, click on the Application you created. You should see Submit job button, click that and enter the below job json in the JSON EDITOR, and click submit."
      ]
    },
    {
      "cell_type": "markdown",
      "metadata": {},
      "source": [
        "![Submit Job](images/submitjobjson.png)"
      ]
    },
    {
      "cell_type": "code",
      "execution_count": null,
      "metadata": {
        "id": "DGyV9nAufXsO"
      },
      "outputs": [],
      "source": [
        "{\n",
        "    \"name\":\"sentiment analysis\",\n",
        "    \"description\":\"sentiment analysis with hugging face transformer pipelines\",\n",
        "    \"appId\":\"pearc25-sentiment-analysis-training1\",\n",
        "    \"appVersion\":\"0.1\",\n",
        "    \"execSystemId\":\"pearc25-vm-training1\", \n",
        "    \"parameterSet\": {\n",
        "    \"appArgs\": [\n",
        "            {\"arg\": \"--sentences\"},\n",
        "            {\"arg\": \"\\\"This is great\\\" \\\"This is not fun\\\"\"},\n",
        "            {\"arg\": \"--output-filepath\"},\n",
        "            {\"arg\":\"/TapisOutput/results.csv\"}\n",
        "            \n",
        "        ]\n",
        "    }\n",
        "}"
      ]
    },
    {
      "cell_type": "markdown",
      "metadata": {},
      "source": [
        "Once the job successfully finishes you should see a results.csv file which has the results from sentiment analysis on the sentences provided in the job\n",
        "![Job Success](images/jobcomplete.png)"
      ]
    },
    {
      "cell_type": "markdown",
      "metadata": {
        "collapsed": false,
        "id": "8rZz6n2K32i9"
      },
      "source": [
        "### Create a system for the HPC cluster\n",
        "\n",
        "With just a few changes to the system definition you can create a second system that can be used to run the\n",
        "same application on an HPC type host. Note the minimal changes:\n",
        "\n",
        "* **id** - A unique id is required\n",
        "* **host** - Main hostname for the HPC system.\n",
        "* **rootDir** - Using the root directory of the host gives us flexibility in setting **jobWorkingDir**.\n",
        "  Note that you still need LINUX permissions.\n",
        "* **jobWorkingDir** - Now determined dynamically using the Tapis v3 function HOST_EVAL()\n",
        "* **jobRuntimes** - Most HPC systems support singularity and not docker\n",
        "* **batchLogicalQueue.hpcQueueName** - HPC queue to use by default.\n",
        "* **batchLogicalQueues** - HPC queue definitions for this HPC system."
      ]
    },
    {
      "cell_type": "markdown",
      "metadata": {},
      "source": [
        "In the Tapis UI, Systems Tab. Click on + CREATE SYSTEM, copy the below json in JSON EDITOR and click CREATE SYSTEM."
      ]
    },
    {
      "cell_type": "code",
      "execution_count": null,
      "metadata": {
        "colab": {
          "base_uri": "https://localhost:8080/"
        },
        "id": "gkDmZ2Vp32i-",
        "outputId": "4b3ddc45-9449-4c47-ee1f-e9630d7333e1"
      },
      "outputs": [],
      "source": [
        "{\n",
        "  \"id\": \"pearc25_system_id_hpc\",\n",
        "  \"description\": \"System for testing jobs on an HPC type host for Gateways24\",\n",
        "  \"systemType\": \"LINUX\",\n",
        "  \"host\": \"129.114.35.138\",\n",
        "  \"defaultAuthnMethod\": \"PASSWORD\",\n",
        "  \"effectiveUserId\": \"${apiUserId}\",\n",
        "  \"rootDir\": \"/\",\n",
        "  \"canExec\": true,\n",
        "  \"jobRuntimes\": [ { \"runtimeType\": \"SINGULARITY\" } ],\n",
        "  \"jobWorkingDir\": \"HOST_EVAL($HOME)/sharetest/workdir\",\n",
        "  \"canRunBatch\": true,\n",
        "  \"batchScheduler\": \"SLURM\",\n",
        "  \"batchSchedulerProfile\": \"tacc\",\n",
        "  \"batchDefaultLogicalQueue\": \"tapisNormal\",\n",
        "  \"batchLogicalQueues\": [\n",
        "    {\n",
        "      \"name\": \"tapisNormal\",\n",
        "      \"hpcQueueName\": \"normal\",\n",
        "      \"maxJobs\": 50,\n",
        "      \"maxJobsPerUser\": 10,\n",
        "      \"minNodeCount\": 1,\n",
        "      \"maxNodeCount\": 16,\n",
        "      \"minCoresPerNode\": 1,\n",
        "      \"maxCoresPerNode\": 68,\n",
        "      \"minMemoryMB\": 1,\n",
        "      \"maxMemoryMB\": 16384,\n",
        "      \"minMinutes\": 1,\n",
        "      \"maxMinutes\": 60\n",
        "    }\n",
        "  ]\n",
        "}"
      ]
    },
    {
      "cell_type": "markdown",
      "metadata": {},
      "source": [
        "Once the HPC System is successfully created it should show up in My Systems."
      ]
    },
    {
      "cell_type": "markdown",
      "metadata": {
        "collapsed": false,
        "id": "6Zz027KS32jA"
      },
      "source": [
        "### Register Credentials for the HPC system\n",
        "\n",
        "As before, now you will need to register credentials for your username. Use the vm_password to add credentials."
      ]
    },
    {
      "cell_type": "markdown",
      "metadata": {
        "collapsed": false,
        "id": "ZuyT88zs32jA"
      },
      "source": [
        "Once you get a message that system credentials were successfully created, you should be able to list files on that system.\n",
        "Go to the files tab and click on the system-id that was created recently.\n",
        "![Files List HPC](images/files-list-hpc.png)"
      ]
    },
    {
      "cell_type": "markdown",
      "metadata": {
        "collapsed": false,
        "id": "0ZKd5yCi32jB"
      },
      "source": [
        "## HPC Application\n",
        "\n",
        "In order to run a job on a system you will need to create a Tapis application.\n",
        "\n",
        "### Create an application that can be run on the VM host or the HPC cluster"
      ]
    },
    {
      "cell_type": "code",
      "execution_count": null,
      "metadata": {
        "id": "kzn6TaRiDega"
      },
      "outputs": [],
      "source": [
        "app_id_hpc = \"gateways24-sentiment-analysis-hpc-\" + username\n",
        "app_def_hpc= {\n",
        "    \"id\": app_id_hpc,\n",
        "    \"version\": \"0.1\",\n",
        "    \"description\": \"Application utilizing the sentiment analysis model from Hugging Face.\",\n",
        "    \"jobType\": \"BATCH\",\n",
        "    \"runtime\": \"SINGULARITY\",\n",
        "    \"runtimeOptions\": [\"SINGULARITY_RUN\"],\n",
        "    \"containerImage\": \"/tmp/sentiment-analysis_1.0.1.sif\",\n",
        "    \"jobAttributes\": {\n",
        "            \"parameterSet\": {\n",
        "            \"archiveFilter\": {\n",
        "                \"includeLaunchFiles\": False\n",
        "            }\n",
        "        },\n",
        "        \"memoryMB\": 1,\n",
        "        \"nodeCount\": 1,\n",
        "        \"coresPerNode\": 1,\n",
        "        \"maxMinutes\": 10\n",
        "    }\n",
        "}"
      ]
    },
    {
      "cell_type": "code",
      "execution_count": null,
      "metadata": {
        "colab": {
          "base_uri": "https://localhost:8080/"
        },
        "id": "B64yeXLS3YCg",
        "outputId": "eed78a1b-6e45-4080-87b8-084396305e29"
      },
      "outputs": [],
      "source": [
        "client.apps.createAppVersion(**app_def_hpc)\n",
        "\n",
        "#client.apps.patchApp(**app_def_hpc, appId=app_id_hpc, appVersion='0.1')"
      ]
    },
    {
      "cell_type": "code",
      "execution_count": null,
      "metadata": {
        "id": "HAo2_dYF32jC"
      },
      "outputs": [],
      "source": [
        "# List all applications available to you\n",
        "print(\"****************************************************\")\n",
        "print(\"List all applications\")\n",
        "print(\"****************************************************\")\n",
        "client.apps.getApps()"
      ]
    },
    {
      "cell_type": "code",
      "execution_count": null,
      "metadata": {
        "id": "ox-Bsbnn32jD"
      },
      "outputs": [],
      "source": [
        "# Get details for the application you created\n",
        "print(\"****************************************************\")\n",
        "print(\"Fetch application: \" + 'Sentiment Analysis HPC app')\n",
        "print(\"****************************************************\")\n",
        "client.apps.getAppLatestVersion(appId=app_id_hpc)"
      ]
    },
    {
      "cell_type": "code",
      "execution_count": null,
      "metadata": {
        "id": "cekpWqVjYjXz"
      },
      "outputs": [],
      "source": [
        "# Submit job to run the sentiment analysis application\n",
        "pa= {\n",
        "    \"parameterSet\": {\n",
        "    \"appArgs\": [\n",
        "            {\"arg\": \"--sentences\"},\n",
        "            {\"arg\": \"\\\"This is great\\\" \\\"This is not fun\\\"\"}\n",
        "            \n",
        "        ]\n",
        "    }}\n",
        "\n",
        "# Submit a job\n",
        "job_response_hpc=client.jobs.submitJob(name='sentiment analysis',description='sentiment analysis with hugging face transformer pipelines',appId=app_id_hpc,appVersion='0.1',execSystemId=system_id_hpc, **pa)\n"
      ]
    },
    {
      "cell_type": "markdown",
      "metadata": {
        "collapsed": false,
        "id": "d83FVxM432jE"
      },
      "source": [
        "### Get Job submission response\n"
      ]
    },
    {
      "cell_type": "code",
      "execution_count": null,
      "metadata": {
        "id": "FV53_w_k32jE"
      },
      "outputs": [],
      "source": [
        "# Get Job submission response\n",
        "print(\"****************************************************\")\n",
        "print(\"Job Submitted: \" + app_id_hpc)\n",
        "print(\"****************************************************\")\n",
        "print(job_response_hpc)"
      ]
    },
    {
      "cell_type": "markdown",
      "metadata": {
        "collapsed": false,
        "id": "9smz7Vl532jF"
      },
      "source": [
        "### Get Job UUID from the submission response\n"
      ]
    },
    {
      "cell_type": "code",
      "execution_count": null,
      "metadata": {
        "id": "-Vs2lrw132jF"
      },
      "outputs": [],
      "source": [
        "# Get job uuid from the job submission response\n",
        "print(\"****************************************************\")\n",
        "job_uuid_hpc=job_response_hpc.uuid\n",
        "print(\"Job UUID: \" + job_uuid_hpc)\n",
        "print(\"****************************************************\")"
      ]
    },
    {
      "cell_type": "markdown",
      "metadata": {
        "collapsed": false,
        "id": "uzaIFB1f32jF"
      },
      "source": [
        "### Check the status of the job\n"
      ]
    },
    {
      "cell_type": "code",
      "execution_count": null,
      "metadata": {
        "colab": {
          "base_uri": "https://localhost:8080/"
        },
        "id": "ovkun2jh32jG",
        "outputId": "4237e4f2-4675-4fee-9354-b776f1c940ad"
      },
      "outputs": [],
      "source": [
        "# Check the status of the job\n",
        "print(\"****************************************************\")\n",
        "print(client.jobs.getJobStatus(jobUuid=job_uuid_hpc))\n",
        "print(\"****************************************************\")"
      ]
    },
    {
      "cell_type": "markdown",
      "metadata": {
        "collapsed": false,
        "id": "dTr7gsEy32jG"
      },
      "source": [
        "### Download output of the job\n"
      ]
    },
    {
      "cell_type": "code",
      "execution_count": null,
      "metadata": {
        "id": "g3ijNFqP32jG"
      },
      "outputs": [],
      "source": [
        "# Once the job is in the FINISHED state, you can download output of the job\n",
        "print(\"Job Output file:\")\n",
        "\n",
        "print(\"****************************************************\")\n",
        "jobs_output_hpc= client.jobs.getJobOutputDownload(jobUuid=job_uuid_hpc,outputPath='results.csv')\n",
        "print(jobs_output_hpc)\n",
        "print(\"****************************************************\")"
      ]
    },
    {
      "cell_type": "markdown",
      "metadata": {
        "collapsed": false,
        "id": "zbPCKlo532jG"
      },
      "source": [
        "### Setting Notifications on Job events\n"
      ]
    },
    {
      "cell_type": "markdown",
      "metadata": {},
      "source": [
        "Note: Make sure to add your email address in the submitJob call."
      ]
    },
    {
      "cell_type": "code",
      "execution_count": null,
      "metadata": {
        "id": "zSFWG6mnHqzd"
      },
      "outputs": [],
      "source": [
        "pa= {\n",
        "    \"parameterSet\": {\n",
        "    \"appArgs\": [\n",
        "            {\"arg\": \"--sentences\"},\n",
        "            {\"arg\": \"\\\"This is great\\\" \\\"This is not fun\\\"\"}\n",
        "            \n",
        "        ]\n",
        "    }}\n",
        "\n",
        "# Submit a job\n",
        "job_response_hpc_email=client.jobs.submitJob(name='sentiment analysis',description='sentiment analysis with hugging face transformer pipelines',appId=app_id_hpc,appVersion='0.1',execSystemId=system_id_hpc,subscriptions= [ { \"description\": \"Test subscriptions\", \"eventCategoryFilter\": \"ALL\",\"deliveryTargets\": [ { \"deliveryMethod\": \"EMAIL\",\"deliveryAddress\":\"<Enter your email>\"}] }],**pa)\n"
      ]
    },
    {
      "cell_type": "code",
      "execution_count": null,
      "metadata": {
        "id": "KW5yNlVf32jH"
      },
      "outputs": [],
      "source": [
        "# Get Job submission response\n",
        "print(\"****************************************************\")\n",
        "print(\"Job Submitted: \" + app_id_hpc)\n",
        "print(\"****************************************************\")\n",
        "print(job_response_hpc_email)"
      ]
    },
    {
      "cell_type": "code",
      "execution_count": null,
      "metadata": {
        "colab": {
          "base_uri": "https://localhost:8080/"
        },
        "id": "2WFW9Odk32jH",
        "outputId": "c39cc97f-ce3e-48f3-c032-b63a8fbfe82d"
      },
      "outputs": [],
      "source": [
        "# Get job uuid from the job submission response\n",
        "print(\"****************************************************\")\n",
        "job_uuid_hpc_email=job_response_hpc_email.uuid\n",
        "print(\"Job UUID: \" + job_uuid_hpc_email)\n",
        "print(\"****************************************************\")"
      ]
    },
    {
      "cell_type": "code",
      "execution_count": null,
      "metadata": {
        "colab": {
          "base_uri": "https://localhost:8080/"
        },
        "id": "tyRg2R5h32jH",
        "outputId": "59aed7c2-a7c2-41d5-9a97-82c6ad7fe814"
      },
      "outputs": [],
      "source": [
        "# Check the status of the job\n",
        "print(\"****************************************************\")\n",
        "print(client.jobs.getJobStatus(jobUuid=job_uuid_hpc_email))\n",
        "print(\"****************************************************\")"
      ]
    },
    {
      "cell_type": "markdown",
      "metadata": {
        "collapsed": false,
        "id": "oTFph5jX32jI"
      },
      "source": [
        "### Cancel a job\n"
      ]
    },
    {
      "cell_type": "code",
      "execution_count": null,
      "metadata": {
        "id": "UabaszCM32jI"
      },
      "outputs": [],
      "source": [
        "# If necessary, you can cancel a long running job.\n",
        "# To cancel a running job\n",
        "# client.jobs.cancelJob(jobUuid=job_uuid_vm)"
      ]
    },
    {
      "cell_type": "markdown",
      "metadata": {
        "id": "CuqrHBsdKMoN"
      },
      "source": [
        "## Share System and App"
      ]
    },
    {
      "cell_type": "code",
      "execution_count": null,
      "metadata": {
        "id": "22bHyxBMKRKr"
      },
      "outputs": [],
      "source": [
        "#Making your execution system Public\n",
        "client.systems.shareSystemPublic(systemId=system_id_hpc)"
      ]
    },
    {
      "cell_type": "code",
      "execution_count": null,
      "metadata": {
        "id": "xMm7dXcg32jP"
      },
      "outputs": [],
      "source": [
        "# Making the app public\n",
        "client.apps.shareAppPublic(appId=app_id_hpc)"
      ]
    },
    {
      "cell_type": "code",
      "execution_count": null,
      "metadata": {
        "id": "GeHsfHMx32jP"
      },
      "outputs": [],
      "source": [
        "# Get Share info on the app\n",
        "client.apps.getShareInfo(appId=app_id_hpc)\n",
        "# Now any user in the tenant should be able to run your application"
      ]
    },
    {
      "cell_type": "code",
      "execution_count": null,
      "metadata": {
        "id": "kcnQJMvf32jP"
      },
      "outputs": [],
      "source": [
        "# Unsharing public app\n",
        "#client.apps.unShareAppPublic(appId=app_id_hpc)"
      ]
    },
    {
      "cell_type": "code",
      "execution_count": null,
      "metadata": {
        "id": "yjkjr806_dii"
      },
      "outputs": [],
      "source": [
        "## You should now be able to run any public apps\n",
        "'''\n",
        "pa= {\n",
        "    \"parameterSet\": {\n",
        "    \"appArgs\": [\n",
        "            {\"arg\": \"--sentences\"},\n",
        "            {\"arg\": \"\\\"This is great\\\" \\\"This is not fun\\\"\"}\n",
        "            \n",
        "        ]\n",
        "    }}\n",
        "\n",
        "# Submit a job\n",
        "job_response_hpc_email=client.jobs.submitJob(name='sentiment analysis',description='sentiment analysis with hugging face transformer pipelines',appId=app_id_hpc,appVersion='0.1',execSystemId=system_id_hpc,subscriptions= [ { \"description\": \"Test subscriptions\", \"eventCategoryFilter\": \"ALL\",\"deliveryTargets\": [ { \"deliveryMethod\": \"EMAIL\",\"deliveryAddress\":\"<Enter your email>\"}] }],**pa)\n",
        "'''"
      ]
    }
  ],
  "metadata": {
    "colab": {
      "provenance": []
    },
    "kernelspec": {
      "display_name": "Python 3.9.10 64-bit",
      "language": "python",
      "name": "python3"
    },
    "language_info": {
      "codemirror_mode": {
        "name": "ipython",
        "version": 3
      },
      "file_extension": ".py",
      "mimetype": "text/x-python",
      "name": "python",
      "nbconvert_exporter": "python",
      "pygments_lexer": "ipython3",
      "version": "3.10.12"
    },
    "vscode": {
      "interpreter": {
        "hash": "aee8b7b246df8f9039afb4144a1f6fd8d2ca17a180786b69acc140d282b71a49"
      }
    },
    "widgets": {
      "application/vnd.jupyter.widget-state+json": {
        "028c7b70ab0f47eba3c2f1f20b0926e5": {
          "model_module": "@jupyter-widgets/base",
          "model_module_version": "1.2.0",
          "model_name": "LayoutModel",
          "state": {
            "_model_module": "@jupyter-widgets/base",
            "_model_module_version": "1.2.0",
            "_model_name": "LayoutModel",
            "_view_count": null,
            "_view_module": "@jupyter-widgets/base",
            "_view_module_version": "1.2.0",
            "_view_name": "LayoutView",
            "align_content": null,
            "align_items": null,
            "align_self": null,
            "border": null,
            "bottom": null,
            "display": null,
            "flex": null,
            "flex_flow": null,
            "grid_area": null,
            "grid_auto_columns": null,
            "grid_auto_flow": null,
            "grid_auto_rows": null,
            "grid_column": null,
            "grid_gap": null,
            "grid_row": null,
            "grid_template_areas": null,
            "grid_template_columns": null,
            "grid_template_rows": null,
            "height": null,
            "justify_content": null,
            "justify_items": null,
            "left": null,
            "margin": null,
            "max_height": null,
            "max_width": null,
            "min_height": null,
            "min_width": null,
            "object_fit": null,
            "object_position": null,
            "order": null,
            "overflow": null,
            "overflow_x": null,
            "overflow_y": null,
            "padding": null,
            "right": null,
            "top": null,
            "visibility": null,
            "width": null
          }
        },
        "0b8b3fafc8c24636a0c62a166483ddf1": {
          "model_module": "@jupyter-widgets/controls",
          "model_module_version": "1.5.0",
          "model_name": "FloatProgressModel",
          "state": {
            "_dom_classes": [],
            "_model_module": "@jupyter-widgets/controls",
            "_model_module_version": "1.5.0",
            "_model_name": "FloatProgressModel",
            "_view_count": null,
            "_view_module": "@jupyter-widgets/controls",
            "_view_module_version": "1.5.0",
            "_view_name": "ProgressView",
            "bar_style": "success",
            "description": "",
            "description_tooltip": null,
            "layout": "IPY_MODEL_ce0589017b48404dbce085ac6d20ab39",
            "max": 231508,
            "min": 0,
            "orientation": "horizontal",
            "style": "IPY_MODEL_7936555292b840c5884828de3c249282",
            "value": 231508
          }
        },
        "15e1577696a94cda9ff6c4c70ace604b": {
          "model_module": "@jupyter-widgets/base",
          "model_module_version": "1.2.0",
          "model_name": "LayoutModel",
          "state": {
            "_model_module": "@jupyter-widgets/base",
            "_model_module_version": "1.2.0",
            "_model_name": "LayoutModel",
            "_view_count": null,
            "_view_module": "@jupyter-widgets/base",
            "_view_module_version": "1.2.0",
            "_view_name": "LayoutView",
            "align_content": null,
            "align_items": null,
            "align_self": null,
            "border": null,
            "bottom": null,
            "display": null,
            "flex": null,
            "flex_flow": null,
            "grid_area": null,
            "grid_auto_columns": null,
            "grid_auto_flow": null,
            "grid_auto_rows": null,
            "grid_column": null,
            "grid_gap": null,
            "grid_row": null,
            "grid_template_areas": null,
            "grid_template_columns": null,
            "grid_template_rows": null,
            "height": null,
            "justify_content": null,
            "justify_items": null,
            "left": null,
            "margin": null,
            "max_height": null,
            "max_width": null,
            "min_height": null,
            "min_width": null,
            "object_fit": null,
            "object_position": null,
            "order": null,
            "overflow": null,
            "overflow_x": null,
            "overflow_y": null,
            "padding": null,
            "right": null,
            "top": null,
            "visibility": null,
            "width": null
          }
        },
        "1668296226ee45449efc03c39b22ce4a": {
          "model_module": "@jupyter-widgets/controls",
          "model_module_version": "1.5.0",
          "model_name": "HTMLModel",
          "state": {
            "_dom_classes": [],
            "_model_module": "@jupyter-widgets/controls",
            "_model_module_version": "1.5.0",
            "_model_name": "HTMLModel",
            "_view_count": null,
            "_view_module": "@jupyter-widgets/controls",
            "_view_module_version": "1.5.0",
            "_view_name": "HTMLView",
            "description": "",
            "description_tooltip": null,
            "layout": "IPY_MODEL_b2189b6006984d4ca6257f54f0626883",
            "placeholder": "​",
            "style": "IPY_MODEL_ef60dcf976254edeba80447ddaa09cc4",
            "value": "Downloading (…)solve/main/vocab.txt: 100%"
          }
        },
        "1a08a5ac238d4d40b1dd7d925361e589": {
          "model_module": "@jupyter-widgets/controls",
          "model_module_version": "1.5.0",
          "model_name": "HBoxModel",
          "state": {
            "_dom_classes": [],
            "_model_module": "@jupyter-widgets/controls",
            "_model_module_version": "1.5.0",
            "_model_name": "HBoxModel",
            "_view_count": null,
            "_view_module": "@jupyter-widgets/controls",
            "_view_module_version": "1.5.0",
            "_view_name": "HBoxView",
            "box_style": "",
            "children": [
              "IPY_MODEL_348eef1705e54a9b9f3660ded76bd68f",
              "IPY_MODEL_7eca837840ab495aa653d2751e821b2a",
              "IPY_MODEL_b55f0dae3c3647139c6680d6b59da998"
            ],
            "layout": "IPY_MODEL_15e1577696a94cda9ff6c4c70ace604b"
          }
        },
        "2f5c6539bb0d433e8a93e480452f2078": {
          "model_module": "@jupyter-widgets/base",
          "model_module_version": "1.2.0",
          "model_name": "LayoutModel",
          "state": {
            "_model_module": "@jupyter-widgets/base",
            "_model_module_version": "1.2.0",
            "_model_name": "LayoutModel",
            "_view_count": null,
            "_view_module": "@jupyter-widgets/base",
            "_view_module_version": "1.2.0",
            "_view_name": "LayoutView",
            "align_content": null,
            "align_items": null,
            "align_self": null,
            "border": null,
            "bottom": null,
            "display": null,
            "flex": null,
            "flex_flow": null,
            "grid_area": null,
            "grid_auto_columns": null,
            "grid_auto_flow": null,
            "grid_auto_rows": null,
            "grid_column": null,
            "grid_gap": null,
            "grid_row": null,
            "grid_template_areas": null,
            "grid_template_columns": null,
            "grid_template_rows": null,
            "height": null,
            "justify_content": null,
            "justify_items": null,
            "left": null,
            "margin": null,
            "max_height": null,
            "max_width": null,
            "min_height": null,
            "min_width": null,
            "object_fit": null,
            "object_position": null,
            "order": null,
            "overflow": null,
            "overflow_x": null,
            "overflow_y": null,
            "padding": null,
            "right": null,
            "top": null,
            "visibility": null,
            "width": null
          }
        },
        "348eef1705e54a9b9f3660ded76bd68f": {
          "model_module": "@jupyter-widgets/controls",
          "model_module_version": "1.5.0",
          "model_name": "HTMLModel",
          "state": {
            "_dom_classes": [],
            "_model_module": "@jupyter-widgets/controls",
            "_model_module_version": "1.5.0",
            "_model_name": "HTMLModel",
            "_view_count": null,
            "_view_module": "@jupyter-widgets/controls",
            "_view_module_version": "1.5.0",
            "_view_name": "HTMLView",
            "description": "",
            "description_tooltip": null,
            "layout": "IPY_MODEL_91c780a04a054671ad27c793f8693390",
            "placeholder": "​",
            "style": "IPY_MODEL_79bb64584df84cc5b70d837fce33b730",
            "value": "Downloading (…)okenizer_config.json: 100%"
          }
        },
        "38831328b9054139accbde1240fbda25": {
          "model_module": "@jupyter-widgets/controls",
          "model_module_version": "1.5.0",
          "model_name": "DescriptionStyleModel",
          "state": {
            "_model_module": "@jupyter-widgets/controls",
            "_model_module_version": "1.5.0",
            "_model_name": "DescriptionStyleModel",
            "_view_count": null,
            "_view_module": "@jupyter-widgets/base",
            "_view_module_version": "1.2.0",
            "_view_name": "StyleView",
            "description_width": ""
          }
        },
        "3a96b255b77b46929efd57dc56c4a800": {
          "model_module": "@jupyter-widgets/base",
          "model_module_version": "1.2.0",
          "model_name": "LayoutModel",
          "state": {
            "_model_module": "@jupyter-widgets/base",
            "_model_module_version": "1.2.0",
            "_model_name": "LayoutModel",
            "_view_count": null,
            "_view_module": "@jupyter-widgets/base",
            "_view_module_version": "1.2.0",
            "_view_name": "LayoutView",
            "align_content": null,
            "align_items": null,
            "align_self": null,
            "border": null,
            "bottom": null,
            "display": null,
            "flex": null,
            "flex_flow": null,
            "grid_area": null,
            "grid_auto_columns": null,
            "grid_auto_flow": null,
            "grid_auto_rows": null,
            "grid_column": null,
            "grid_gap": null,
            "grid_row": null,
            "grid_template_areas": null,
            "grid_template_columns": null,
            "grid_template_rows": null,
            "height": null,
            "justify_content": null,
            "justify_items": null,
            "left": null,
            "margin": null,
            "max_height": null,
            "max_width": null,
            "min_height": null,
            "min_width": null,
            "object_fit": null,
            "object_position": null,
            "order": null,
            "overflow": null,
            "overflow_x": null,
            "overflow_y": null,
            "padding": null,
            "right": null,
            "top": null,
            "visibility": null,
            "width": null
          }
        },
        "3ef1dbc02b6a4f08b894093bdac7343d": {
          "model_module": "@jupyter-widgets/base",
          "model_module_version": "1.2.0",
          "model_name": "LayoutModel",
          "state": {
            "_model_module": "@jupyter-widgets/base",
            "_model_module_version": "1.2.0",
            "_model_name": "LayoutModel",
            "_view_count": null,
            "_view_module": "@jupyter-widgets/base",
            "_view_module_version": "1.2.0",
            "_view_name": "LayoutView",
            "align_content": null,
            "align_items": null,
            "align_self": null,
            "border": null,
            "bottom": null,
            "display": null,
            "flex": null,
            "flex_flow": null,
            "grid_area": null,
            "grid_auto_columns": null,
            "grid_auto_flow": null,
            "grid_auto_rows": null,
            "grid_column": null,
            "grid_gap": null,
            "grid_row": null,
            "grid_template_areas": null,
            "grid_template_columns": null,
            "grid_template_rows": null,
            "height": null,
            "justify_content": null,
            "justify_items": null,
            "left": null,
            "margin": null,
            "max_height": null,
            "max_width": null,
            "min_height": null,
            "min_width": null,
            "object_fit": null,
            "object_position": null,
            "order": null,
            "overflow": null,
            "overflow_x": null,
            "overflow_y": null,
            "padding": null,
            "right": null,
            "top": null,
            "visibility": null,
            "width": null
          }
        },
        "43d1271cec9745cdb2649a85dc79e0e6": {
          "model_module": "@jupyter-widgets/base",
          "model_module_version": "1.2.0",
          "model_name": "LayoutModel",
          "state": {
            "_model_module": "@jupyter-widgets/base",
            "_model_module_version": "1.2.0",
            "_model_name": "LayoutModel",
            "_view_count": null,
            "_view_module": "@jupyter-widgets/base",
            "_view_module_version": "1.2.0",
            "_view_name": "LayoutView",
            "align_content": null,
            "align_items": null,
            "align_self": null,
            "border": null,
            "bottom": null,
            "display": null,
            "flex": null,
            "flex_flow": null,
            "grid_area": null,
            "grid_auto_columns": null,
            "grid_auto_flow": null,
            "grid_auto_rows": null,
            "grid_column": null,
            "grid_gap": null,
            "grid_row": null,
            "grid_template_areas": null,
            "grid_template_columns": null,
            "grid_template_rows": null,
            "height": null,
            "justify_content": null,
            "justify_items": null,
            "left": null,
            "margin": null,
            "max_height": null,
            "max_width": null,
            "min_height": null,
            "min_width": null,
            "object_fit": null,
            "object_position": null,
            "order": null,
            "overflow": null,
            "overflow_x": null,
            "overflow_y": null,
            "padding": null,
            "right": null,
            "top": null,
            "visibility": null,
            "width": null
          }
        },
        "4495c485de554751a39b7ebba6ce9faa": {
          "model_module": "@jupyter-widgets/base",
          "model_module_version": "1.2.0",
          "model_name": "LayoutModel",
          "state": {
            "_model_module": "@jupyter-widgets/base",
            "_model_module_version": "1.2.0",
            "_model_name": "LayoutModel",
            "_view_count": null,
            "_view_module": "@jupyter-widgets/base",
            "_view_module_version": "1.2.0",
            "_view_name": "LayoutView",
            "align_content": null,
            "align_items": null,
            "align_self": null,
            "border": null,
            "bottom": null,
            "display": null,
            "flex": null,
            "flex_flow": null,
            "grid_area": null,
            "grid_auto_columns": null,
            "grid_auto_flow": null,
            "grid_auto_rows": null,
            "grid_column": null,
            "grid_gap": null,
            "grid_row": null,
            "grid_template_areas": null,
            "grid_template_columns": null,
            "grid_template_rows": null,
            "height": null,
            "justify_content": null,
            "justify_items": null,
            "left": null,
            "margin": null,
            "max_height": null,
            "max_width": null,
            "min_height": null,
            "min_width": null,
            "object_fit": null,
            "object_position": null,
            "order": null,
            "overflow": null,
            "overflow_x": null,
            "overflow_y": null,
            "padding": null,
            "right": null,
            "top": null,
            "visibility": null,
            "width": null
          }
        },
        "47963cd61cae4dc4998b3a8d91043cc6": {
          "model_module": "@jupyter-widgets/controls",
          "model_module_version": "1.5.0",
          "model_name": "DescriptionStyleModel",
          "state": {
            "_model_module": "@jupyter-widgets/controls",
            "_model_module_version": "1.5.0",
            "_model_name": "DescriptionStyleModel",
            "_view_count": null,
            "_view_module": "@jupyter-widgets/base",
            "_view_module_version": "1.2.0",
            "_view_name": "StyleView",
            "description_width": ""
          }
        },
        "58a16acf45cb46f287d156a14f769a46": {
          "model_module": "@jupyter-widgets/controls",
          "model_module_version": "1.5.0",
          "model_name": "ProgressStyleModel",
          "state": {
            "_model_module": "@jupyter-widgets/controls",
            "_model_module_version": "1.5.0",
            "_model_name": "ProgressStyleModel",
            "_view_count": null,
            "_view_module": "@jupyter-widgets/base",
            "_view_module_version": "1.2.0",
            "_view_name": "StyleView",
            "bar_color": null,
            "description_width": ""
          }
        },
        "5ffb028ce453462aa304d39876928cb6": {
          "model_module": "@jupyter-widgets/controls",
          "model_module_version": "1.5.0",
          "model_name": "HTMLModel",
          "state": {
            "_dom_classes": [],
            "_model_module": "@jupyter-widgets/controls",
            "_model_module_version": "1.5.0",
            "_model_name": "HTMLModel",
            "_view_count": null,
            "_view_module": "@jupyter-widgets/controls",
            "_view_module_version": "1.5.0",
            "_view_name": "HTMLView",
            "description": "",
            "description_tooltip": null,
            "layout": "IPY_MODEL_d68ec7378a3e4e59ab59ccdeb8b2739e",
            "placeholder": "​",
            "style": "IPY_MODEL_8e3575d6ddc1441c88027bbd369524cd",
            "value": " 232k/232k [00:00&lt;00:00, 590kB/s]"
          }
        },
        "604d3d379cac422db3876609feefab31": {
          "model_module": "@jupyter-widgets/controls",
          "model_module_version": "1.5.0",
          "model_name": "HBoxModel",
          "state": {
            "_dom_classes": [],
            "_model_module": "@jupyter-widgets/controls",
            "_model_module_version": "1.5.0",
            "_model_name": "HBoxModel",
            "_view_count": null,
            "_view_module": "@jupyter-widgets/controls",
            "_view_module_version": "1.5.0",
            "_view_name": "HBoxView",
            "box_style": "",
            "children": [
              "IPY_MODEL_67d1cc4f82a641d6abf28f144c46eb8d",
              "IPY_MODEL_98c799acf42b4c7c867803de3bd79612",
              "IPY_MODEL_da334338b05248489ad5e5d2acd432e1"
            ],
            "layout": "IPY_MODEL_43d1271cec9745cdb2649a85dc79e0e6"
          }
        },
        "67d1cc4f82a641d6abf28f144c46eb8d": {
          "model_module": "@jupyter-widgets/controls",
          "model_module_version": "1.5.0",
          "model_name": "HTMLModel",
          "state": {
            "_dom_classes": [],
            "_model_module": "@jupyter-widgets/controls",
            "_model_module_version": "1.5.0",
            "_model_name": "HTMLModel",
            "_view_count": null,
            "_view_module": "@jupyter-widgets/controls",
            "_view_module_version": "1.5.0",
            "_view_name": "HTMLView",
            "description": "",
            "description_tooltip": null,
            "layout": "IPY_MODEL_8723bbfd4d8a4542ab35aeeac8191c40",
            "placeholder": "​",
            "style": "IPY_MODEL_b20c421a8af9477299d34f294ca66774",
            "value": "Downloading model.safetensors: 100%"
          }
        },
        "68bd26dfc3184328a35a4a90b5f67de9": {
          "model_module": "@jupyter-widgets/controls",
          "model_module_version": "1.5.0",
          "model_name": "FloatProgressModel",
          "state": {
            "_dom_classes": [],
            "_model_module": "@jupyter-widgets/controls",
            "_model_module_version": "1.5.0",
            "_model_name": "FloatProgressModel",
            "_view_count": null,
            "_view_module": "@jupyter-widgets/controls",
            "_view_module_version": "1.5.0",
            "_view_name": "ProgressView",
            "bar_style": "success",
            "description": "",
            "description_tooltip": null,
            "layout": "IPY_MODEL_4495c485de554751a39b7ebba6ce9faa",
            "max": 629,
            "min": 0,
            "orientation": "horizontal",
            "style": "IPY_MODEL_81127743dd6541f6a0362bfbfc3d7472",
            "value": 629
          }
        },
        "6d18fa41260641ca958def558a890967": {
          "model_module": "@jupyter-widgets/base",
          "model_module_version": "1.2.0",
          "model_name": "LayoutModel",
          "state": {
            "_model_module": "@jupyter-widgets/base",
            "_model_module_version": "1.2.0",
            "_model_name": "LayoutModel",
            "_view_count": null,
            "_view_module": "@jupyter-widgets/base",
            "_view_module_version": "1.2.0",
            "_view_name": "LayoutView",
            "align_content": null,
            "align_items": null,
            "align_self": null,
            "border": null,
            "bottom": null,
            "display": null,
            "flex": null,
            "flex_flow": null,
            "grid_area": null,
            "grid_auto_columns": null,
            "grid_auto_flow": null,
            "grid_auto_rows": null,
            "grid_column": null,
            "grid_gap": null,
            "grid_row": null,
            "grid_template_areas": null,
            "grid_template_columns": null,
            "grid_template_rows": null,
            "height": null,
            "justify_content": null,
            "justify_items": null,
            "left": null,
            "margin": null,
            "max_height": null,
            "max_width": null,
            "min_height": null,
            "min_width": null,
            "object_fit": null,
            "object_position": null,
            "order": null,
            "overflow": null,
            "overflow_x": null,
            "overflow_y": null,
            "padding": null,
            "right": null,
            "top": null,
            "visibility": null,
            "width": null
          }
        },
        "74478d586aaa4fe49c4f344a959e670e": {
          "model_module": "@jupyter-widgets/base",
          "model_module_version": "1.2.0",
          "model_name": "LayoutModel",
          "state": {
            "_model_module": "@jupyter-widgets/base",
            "_model_module_version": "1.2.0",
            "_model_name": "LayoutModel",
            "_view_count": null,
            "_view_module": "@jupyter-widgets/base",
            "_view_module_version": "1.2.0",
            "_view_name": "LayoutView",
            "align_content": null,
            "align_items": null,
            "align_self": null,
            "border": null,
            "bottom": null,
            "display": null,
            "flex": null,
            "flex_flow": null,
            "grid_area": null,
            "grid_auto_columns": null,
            "grid_auto_flow": null,
            "grid_auto_rows": null,
            "grid_column": null,
            "grid_gap": null,
            "grid_row": null,
            "grid_template_areas": null,
            "grid_template_columns": null,
            "grid_template_rows": null,
            "height": null,
            "justify_content": null,
            "justify_items": null,
            "left": null,
            "margin": null,
            "max_height": null,
            "max_width": null,
            "min_height": null,
            "min_width": null,
            "object_fit": null,
            "object_position": null,
            "order": null,
            "overflow": null,
            "overflow_x": null,
            "overflow_y": null,
            "padding": null,
            "right": null,
            "top": null,
            "visibility": null,
            "width": null
          }
        },
        "7936555292b840c5884828de3c249282": {
          "model_module": "@jupyter-widgets/controls",
          "model_module_version": "1.5.0",
          "model_name": "ProgressStyleModel",
          "state": {
            "_model_module": "@jupyter-widgets/controls",
            "_model_module_version": "1.5.0",
            "_model_name": "ProgressStyleModel",
            "_view_count": null,
            "_view_module": "@jupyter-widgets/base",
            "_view_module_version": "1.2.0",
            "_view_name": "StyleView",
            "bar_color": null,
            "description_width": ""
          }
        },
        "79bb64584df84cc5b70d837fce33b730": {
          "model_module": "@jupyter-widgets/controls",
          "model_module_version": "1.5.0",
          "model_name": "DescriptionStyleModel",
          "state": {
            "_model_module": "@jupyter-widgets/controls",
            "_model_module_version": "1.5.0",
            "_model_name": "DescriptionStyleModel",
            "_view_count": null,
            "_view_module": "@jupyter-widgets/base",
            "_view_module_version": "1.2.0",
            "_view_name": "StyleView",
            "description_width": ""
          }
        },
        "7eca837840ab495aa653d2751e821b2a": {
          "model_module": "@jupyter-widgets/controls",
          "model_module_version": "1.5.0",
          "model_name": "FloatProgressModel",
          "state": {
            "_dom_classes": [],
            "_model_module": "@jupyter-widgets/controls",
            "_model_module_version": "1.5.0",
            "_model_name": "FloatProgressModel",
            "_view_count": null,
            "_view_module": "@jupyter-widgets/controls",
            "_view_module_version": "1.5.0",
            "_view_name": "ProgressView",
            "bar_style": "success",
            "description": "",
            "description_tooltip": null,
            "layout": "IPY_MODEL_74478d586aaa4fe49c4f344a959e670e",
            "max": 48,
            "min": 0,
            "orientation": "horizontal",
            "style": "IPY_MODEL_58a16acf45cb46f287d156a14f769a46",
            "value": 48
          }
        },
        "81127743dd6541f6a0362bfbfc3d7472": {
          "model_module": "@jupyter-widgets/controls",
          "model_module_version": "1.5.0",
          "model_name": "ProgressStyleModel",
          "state": {
            "_model_module": "@jupyter-widgets/controls",
            "_model_module_version": "1.5.0",
            "_model_name": "ProgressStyleModel",
            "_view_count": null,
            "_view_module": "@jupyter-widgets/base",
            "_view_module_version": "1.2.0",
            "_view_name": "StyleView",
            "bar_color": null,
            "description_width": ""
          }
        },
        "8723bbfd4d8a4542ab35aeeac8191c40": {
          "model_module": "@jupyter-widgets/base",
          "model_module_version": "1.2.0",
          "model_name": "LayoutModel",
          "state": {
            "_model_module": "@jupyter-widgets/base",
            "_model_module_version": "1.2.0",
            "_model_name": "LayoutModel",
            "_view_count": null,
            "_view_module": "@jupyter-widgets/base",
            "_view_module_version": "1.2.0",
            "_view_name": "LayoutView",
            "align_content": null,
            "align_items": null,
            "align_self": null,
            "border": null,
            "bottom": null,
            "display": null,
            "flex": null,
            "flex_flow": null,
            "grid_area": null,
            "grid_auto_columns": null,
            "grid_auto_flow": null,
            "grid_auto_rows": null,
            "grid_column": null,
            "grid_gap": null,
            "grid_row": null,
            "grid_template_areas": null,
            "grid_template_columns": null,
            "grid_template_rows": null,
            "height": null,
            "justify_content": null,
            "justify_items": null,
            "left": null,
            "margin": null,
            "max_height": null,
            "max_width": null,
            "min_height": null,
            "min_width": null,
            "object_fit": null,
            "object_position": null,
            "order": null,
            "overflow": null,
            "overflow_x": null,
            "overflow_y": null,
            "padding": null,
            "right": null,
            "top": null,
            "visibility": null,
            "width": null
          }
        },
        "8e3575d6ddc1441c88027bbd369524cd": {
          "model_module": "@jupyter-widgets/controls",
          "model_module_version": "1.5.0",
          "model_name": "DescriptionStyleModel",
          "state": {
            "_model_module": "@jupyter-widgets/controls",
            "_model_module_version": "1.5.0",
            "_model_name": "DescriptionStyleModel",
            "_view_count": null,
            "_view_module": "@jupyter-widgets/base",
            "_view_module_version": "1.2.0",
            "_view_name": "StyleView",
            "description_width": ""
          }
        },
        "91c780a04a054671ad27c793f8693390": {
          "model_module": "@jupyter-widgets/base",
          "model_module_version": "1.2.0",
          "model_name": "LayoutModel",
          "state": {
            "_model_module": "@jupyter-widgets/base",
            "_model_module_version": "1.2.0",
            "_model_name": "LayoutModel",
            "_view_count": null,
            "_view_module": "@jupyter-widgets/base",
            "_view_module_version": "1.2.0",
            "_view_name": "LayoutView",
            "align_content": null,
            "align_items": null,
            "align_self": null,
            "border": null,
            "bottom": null,
            "display": null,
            "flex": null,
            "flex_flow": null,
            "grid_area": null,
            "grid_auto_columns": null,
            "grid_auto_flow": null,
            "grid_auto_rows": null,
            "grid_column": null,
            "grid_gap": null,
            "grid_row": null,
            "grid_template_areas": null,
            "grid_template_columns": null,
            "grid_template_rows": null,
            "height": null,
            "justify_content": null,
            "justify_items": null,
            "left": null,
            "margin": null,
            "max_height": null,
            "max_width": null,
            "min_height": null,
            "min_width": null,
            "object_fit": null,
            "object_position": null,
            "order": null,
            "overflow": null,
            "overflow_x": null,
            "overflow_y": null,
            "padding": null,
            "right": null,
            "top": null,
            "visibility": null,
            "width": null
          }
        },
        "951a1ff3690d469dafcab1e112cacfd7": {
          "model_module": "@jupyter-widgets/controls",
          "model_module_version": "1.5.0",
          "model_name": "ProgressStyleModel",
          "state": {
            "_model_module": "@jupyter-widgets/controls",
            "_model_module_version": "1.5.0",
            "_model_name": "ProgressStyleModel",
            "_view_count": null,
            "_view_module": "@jupyter-widgets/base",
            "_view_module_version": "1.2.0",
            "_view_name": "StyleView",
            "bar_color": null,
            "description_width": ""
          }
        },
        "98c799acf42b4c7c867803de3bd79612": {
          "model_module": "@jupyter-widgets/controls",
          "model_module_version": "1.5.0",
          "model_name": "FloatProgressModel",
          "state": {
            "_dom_classes": [],
            "_model_module": "@jupyter-widgets/controls",
            "_model_module_version": "1.5.0",
            "_model_name": "FloatProgressModel",
            "_view_count": null,
            "_view_module": "@jupyter-widgets/controls",
            "_view_module_version": "1.5.0",
            "_view_name": "ProgressView",
            "bar_style": "success",
            "description": "",
            "description_tooltip": null,
            "layout": "IPY_MODEL_6d18fa41260641ca958def558a890967",
            "max": 267832558,
            "min": 0,
            "orientation": "horizontal",
            "style": "IPY_MODEL_951a1ff3690d469dafcab1e112cacfd7",
            "value": 267832558
          }
        },
        "9b9a8e9b74e842f4962d96a3e3a2e3dd": {
          "model_module": "@jupyter-widgets/controls",
          "model_module_version": "1.5.0",
          "model_name": "DescriptionStyleModel",
          "state": {
            "_model_module": "@jupyter-widgets/controls",
            "_model_module_version": "1.5.0",
            "_model_name": "DescriptionStyleModel",
            "_view_count": null,
            "_view_module": "@jupyter-widgets/base",
            "_view_module_version": "1.2.0",
            "_view_name": "StyleView",
            "description_width": ""
          }
        },
        "a0fc5b142c3b40dba6ab18a03f2a5b05": {
          "model_module": "@jupyter-widgets/controls",
          "model_module_version": "1.5.0",
          "model_name": "HBoxModel",
          "state": {
            "_dom_classes": [],
            "_model_module": "@jupyter-widgets/controls",
            "_model_module_version": "1.5.0",
            "_model_name": "HBoxModel",
            "_view_count": null,
            "_view_module": "@jupyter-widgets/controls",
            "_view_module_version": "1.5.0",
            "_view_name": "HBoxView",
            "box_style": "",
            "children": [
              "IPY_MODEL_1668296226ee45449efc03c39b22ce4a",
              "IPY_MODEL_0b8b3fafc8c24636a0c62a166483ddf1",
              "IPY_MODEL_5ffb028ce453462aa304d39876928cb6"
            ],
            "layout": "IPY_MODEL_f494f3b2a79b4139875cb40395d4e2ee"
          }
        },
        "b20c421a8af9477299d34f294ca66774": {
          "model_module": "@jupyter-widgets/controls",
          "model_module_version": "1.5.0",
          "model_name": "DescriptionStyleModel",
          "state": {
            "_model_module": "@jupyter-widgets/controls",
            "_model_module_version": "1.5.0",
            "_model_name": "DescriptionStyleModel",
            "_view_count": null,
            "_view_module": "@jupyter-widgets/base",
            "_view_module_version": "1.2.0",
            "_view_name": "StyleView",
            "description_width": ""
          }
        },
        "b2189b6006984d4ca6257f54f0626883": {
          "model_module": "@jupyter-widgets/base",
          "model_module_version": "1.2.0",
          "model_name": "LayoutModel",
          "state": {
            "_model_module": "@jupyter-widgets/base",
            "_model_module_version": "1.2.0",
            "_model_name": "LayoutModel",
            "_view_count": null,
            "_view_module": "@jupyter-widgets/base",
            "_view_module_version": "1.2.0",
            "_view_name": "LayoutView",
            "align_content": null,
            "align_items": null,
            "align_self": null,
            "border": null,
            "bottom": null,
            "display": null,
            "flex": null,
            "flex_flow": null,
            "grid_area": null,
            "grid_auto_columns": null,
            "grid_auto_flow": null,
            "grid_auto_rows": null,
            "grid_column": null,
            "grid_gap": null,
            "grid_row": null,
            "grid_template_areas": null,
            "grid_template_columns": null,
            "grid_template_rows": null,
            "height": null,
            "justify_content": null,
            "justify_items": null,
            "left": null,
            "margin": null,
            "max_height": null,
            "max_width": null,
            "min_height": null,
            "min_width": null,
            "object_fit": null,
            "object_position": null,
            "order": null,
            "overflow": null,
            "overflow_x": null,
            "overflow_y": null,
            "padding": null,
            "right": null,
            "top": null,
            "visibility": null,
            "width": null
          }
        },
        "b3d6482f80134b668d1c48af02de7bcf": {
          "model_module": "@jupyter-widgets/controls",
          "model_module_version": "1.5.0",
          "model_name": "DescriptionStyleModel",
          "state": {
            "_model_module": "@jupyter-widgets/controls",
            "_model_module_version": "1.5.0",
            "_model_name": "DescriptionStyleModel",
            "_view_count": null,
            "_view_module": "@jupyter-widgets/base",
            "_view_module_version": "1.2.0",
            "_view_name": "StyleView",
            "description_width": ""
          }
        },
        "b55f0dae3c3647139c6680d6b59da998": {
          "model_module": "@jupyter-widgets/controls",
          "model_module_version": "1.5.0",
          "model_name": "HTMLModel",
          "state": {
            "_dom_classes": [],
            "_model_module": "@jupyter-widgets/controls",
            "_model_module_version": "1.5.0",
            "_model_name": "HTMLModel",
            "_view_count": null,
            "_view_module": "@jupyter-widgets/controls",
            "_view_module_version": "1.5.0",
            "_view_name": "HTMLView",
            "description": "",
            "description_tooltip": null,
            "layout": "IPY_MODEL_c9f88d97ef8b47aa92217e58fd3d82e0",
            "placeholder": "​",
            "style": "IPY_MODEL_47963cd61cae4dc4998b3a8d91043cc6",
            "value": " 48.0/48.0 [00:00&lt;00:00, 2.08kB/s]"
          }
        },
        "c9f88d97ef8b47aa92217e58fd3d82e0": {
          "model_module": "@jupyter-widgets/base",
          "model_module_version": "1.2.0",
          "model_name": "LayoutModel",
          "state": {
            "_model_module": "@jupyter-widgets/base",
            "_model_module_version": "1.2.0",
            "_model_name": "LayoutModel",
            "_view_count": null,
            "_view_module": "@jupyter-widgets/base",
            "_view_module_version": "1.2.0",
            "_view_name": "LayoutView",
            "align_content": null,
            "align_items": null,
            "align_self": null,
            "border": null,
            "bottom": null,
            "display": null,
            "flex": null,
            "flex_flow": null,
            "grid_area": null,
            "grid_auto_columns": null,
            "grid_auto_flow": null,
            "grid_auto_rows": null,
            "grid_column": null,
            "grid_gap": null,
            "grid_row": null,
            "grid_template_areas": null,
            "grid_template_columns": null,
            "grid_template_rows": null,
            "height": null,
            "justify_content": null,
            "justify_items": null,
            "left": null,
            "margin": null,
            "max_height": null,
            "max_width": null,
            "min_height": null,
            "min_width": null,
            "object_fit": null,
            "object_position": null,
            "order": null,
            "overflow": null,
            "overflow_x": null,
            "overflow_y": null,
            "padding": null,
            "right": null,
            "top": null,
            "visibility": null,
            "width": null
          }
        },
        "ce0589017b48404dbce085ac6d20ab39": {
          "model_module": "@jupyter-widgets/base",
          "model_module_version": "1.2.0",
          "model_name": "LayoutModel",
          "state": {
            "_model_module": "@jupyter-widgets/base",
            "_model_module_version": "1.2.0",
            "_model_name": "LayoutModel",
            "_view_count": null,
            "_view_module": "@jupyter-widgets/base",
            "_view_module_version": "1.2.0",
            "_view_name": "LayoutView",
            "align_content": null,
            "align_items": null,
            "align_self": null,
            "border": null,
            "bottom": null,
            "display": null,
            "flex": null,
            "flex_flow": null,
            "grid_area": null,
            "grid_auto_columns": null,
            "grid_auto_flow": null,
            "grid_auto_rows": null,
            "grid_column": null,
            "grid_gap": null,
            "grid_row": null,
            "grid_template_areas": null,
            "grid_template_columns": null,
            "grid_template_rows": null,
            "height": null,
            "justify_content": null,
            "justify_items": null,
            "left": null,
            "margin": null,
            "max_height": null,
            "max_width": null,
            "min_height": null,
            "min_width": null,
            "object_fit": null,
            "object_position": null,
            "order": null,
            "overflow": null,
            "overflow_x": null,
            "overflow_y": null,
            "padding": null,
            "right": null,
            "top": null,
            "visibility": null,
            "width": null
          }
        },
        "d68ec7378a3e4e59ab59ccdeb8b2739e": {
          "model_module": "@jupyter-widgets/base",
          "model_module_version": "1.2.0",
          "model_name": "LayoutModel",
          "state": {
            "_model_module": "@jupyter-widgets/base",
            "_model_module_version": "1.2.0",
            "_model_name": "LayoutModel",
            "_view_count": null,
            "_view_module": "@jupyter-widgets/base",
            "_view_module_version": "1.2.0",
            "_view_name": "LayoutView",
            "align_content": null,
            "align_items": null,
            "align_self": null,
            "border": null,
            "bottom": null,
            "display": null,
            "flex": null,
            "flex_flow": null,
            "grid_area": null,
            "grid_auto_columns": null,
            "grid_auto_flow": null,
            "grid_auto_rows": null,
            "grid_column": null,
            "grid_gap": null,
            "grid_row": null,
            "grid_template_areas": null,
            "grid_template_columns": null,
            "grid_template_rows": null,
            "height": null,
            "justify_content": null,
            "justify_items": null,
            "left": null,
            "margin": null,
            "max_height": null,
            "max_width": null,
            "min_height": null,
            "min_width": null,
            "object_fit": null,
            "object_position": null,
            "order": null,
            "overflow": null,
            "overflow_x": null,
            "overflow_y": null,
            "padding": null,
            "right": null,
            "top": null,
            "visibility": null,
            "width": null
          }
        },
        "d702df7b9ebf4dc69500e3fc9c8c79bb": {
          "model_module": "@jupyter-widgets/controls",
          "model_module_version": "1.5.0",
          "model_name": "HTMLModel",
          "state": {
            "_dom_classes": [],
            "_model_module": "@jupyter-widgets/controls",
            "_model_module_version": "1.5.0",
            "_model_name": "HTMLModel",
            "_view_count": null,
            "_view_module": "@jupyter-widgets/controls",
            "_view_module_version": "1.5.0",
            "_view_name": "HTMLView",
            "description": "",
            "description_tooltip": null,
            "layout": "IPY_MODEL_3a96b255b77b46929efd57dc56c4a800",
            "placeholder": "​",
            "style": "IPY_MODEL_b3d6482f80134b668d1c48af02de7bcf",
            "value": "Downloading (…)lve/main/config.json: 100%"
          }
        },
        "da334338b05248489ad5e5d2acd432e1": {
          "model_module": "@jupyter-widgets/controls",
          "model_module_version": "1.5.0",
          "model_name": "HTMLModel",
          "state": {
            "_dom_classes": [],
            "_model_module": "@jupyter-widgets/controls",
            "_model_module_version": "1.5.0",
            "_model_name": "HTMLModel",
            "_view_count": null,
            "_view_module": "@jupyter-widgets/controls",
            "_view_module_version": "1.5.0",
            "_view_name": "HTMLView",
            "description": "",
            "description_tooltip": null,
            "layout": "IPY_MODEL_2f5c6539bb0d433e8a93e480452f2078",
            "placeholder": "​",
            "style": "IPY_MODEL_9b9a8e9b74e842f4962d96a3e3a2e3dd",
            "value": " 268M/268M [00:02&lt;00:00, 92.8MB/s]"
          }
        },
        "e019f9b1da334de7b367eac4f5832aa7": {
          "model_module": "@jupyter-widgets/controls",
          "model_module_version": "1.5.0",
          "model_name": "HBoxModel",
          "state": {
            "_dom_classes": [],
            "_model_module": "@jupyter-widgets/controls",
            "_model_module_version": "1.5.0",
            "_model_name": "HBoxModel",
            "_view_count": null,
            "_view_module": "@jupyter-widgets/controls",
            "_view_module_version": "1.5.0",
            "_view_name": "HBoxView",
            "box_style": "",
            "children": [
              "IPY_MODEL_d702df7b9ebf4dc69500e3fc9c8c79bb",
              "IPY_MODEL_68bd26dfc3184328a35a4a90b5f67de9",
              "IPY_MODEL_f960471fd6fe4265bdbb2fd251de6d83"
            ],
            "layout": "IPY_MODEL_028c7b70ab0f47eba3c2f1f20b0926e5"
          }
        },
        "ef60dcf976254edeba80447ddaa09cc4": {
          "model_module": "@jupyter-widgets/controls",
          "model_module_version": "1.5.0",
          "model_name": "DescriptionStyleModel",
          "state": {
            "_model_module": "@jupyter-widgets/controls",
            "_model_module_version": "1.5.0",
            "_model_name": "DescriptionStyleModel",
            "_view_count": null,
            "_view_module": "@jupyter-widgets/base",
            "_view_module_version": "1.2.0",
            "_view_name": "StyleView",
            "description_width": ""
          }
        },
        "f494f3b2a79b4139875cb40395d4e2ee": {
          "model_module": "@jupyter-widgets/base",
          "model_module_version": "1.2.0",
          "model_name": "LayoutModel",
          "state": {
            "_model_module": "@jupyter-widgets/base",
            "_model_module_version": "1.2.0",
            "_model_name": "LayoutModel",
            "_view_count": null,
            "_view_module": "@jupyter-widgets/base",
            "_view_module_version": "1.2.0",
            "_view_name": "LayoutView",
            "align_content": null,
            "align_items": null,
            "align_self": null,
            "border": null,
            "bottom": null,
            "display": null,
            "flex": null,
            "flex_flow": null,
            "grid_area": null,
            "grid_auto_columns": null,
            "grid_auto_flow": null,
            "grid_auto_rows": null,
            "grid_column": null,
            "grid_gap": null,
            "grid_row": null,
            "grid_template_areas": null,
            "grid_template_columns": null,
            "grid_template_rows": null,
            "height": null,
            "justify_content": null,
            "justify_items": null,
            "left": null,
            "margin": null,
            "max_height": null,
            "max_width": null,
            "min_height": null,
            "min_width": null,
            "object_fit": null,
            "object_position": null,
            "order": null,
            "overflow": null,
            "overflow_x": null,
            "overflow_y": null,
            "padding": null,
            "right": null,
            "top": null,
            "visibility": null,
            "width": null
          }
        },
        "f960471fd6fe4265bdbb2fd251de6d83": {
          "model_module": "@jupyter-widgets/controls",
          "model_module_version": "1.5.0",
          "model_name": "HTMLModel",
          "state": {
            "_dom_classes": [],
            "_model_module": "@jupyter-widgets/controls",
            "_model_module_version": "1.5.0",
            "_model_name": "HTMLModel",
            "_view_count": null,
            "_view_module": "@jupyter-widgets/controls",
            "_view_module_version": "1.5.0",
            "_view_name": "HTMLView",
            "description": "",
            "description_tooltip": null,
            "layout": "IPY_MODEL_3ef1dbc02b6a4f08b894093bdac7343d",
            "placeholder": "​",
            "style": "IPY_MODEL_38831328b9054139accbde1240fbda25",
            "value": " 629/629 [00:00&lt;00:00, 34.4kB/s]"
          }
        }
      }
    }
  },
  "nbformat": 4,
  "nbformat_minor": 0
}
